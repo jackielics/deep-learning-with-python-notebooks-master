{
 "cells": [
  {
   "attachments": {},
   "cell_type": "markdown",
   "metadata": {
    "colab_type": "text"
   },
   "source": [
    "This is a companion notebook for the book [Deep Learning with Python, Second Edition](https://www.manning.com/books/deep-learning-with-python-second-edition?a_aid=keras&a_bid=76564dff). For readability, it only contains runnable code blocks and section titles, and omits everything else in the book: text paragraphs, figures, and pseudocode.\n",
    "\n",
    "**If you want to be able to follow what's going on, I recommend reading the notebook side by side with your copy of the book.**\n",
    "\n",
    "This notebook was generated for TensorFlow 2.6."
   ]
  },
  {
   "attachments": {},
   "cell_type": "markdown",
   "metadata": {
    "colab_type": "text"
   },
   "source": [
    "# Fundamentals of machine learning"
   ]
  },
  {
   "attachments": {},
   "cell_type": "markdown",
   "metadata": {
    "colab_type": "text"
   },
   "source": [
    "## Generalization: The goal of machine learning"
   ]
  },
  {
   "attachments": {},
   "cell_type": "markdown",
   "metadata": {
    "colab_type": "text"
   },
   "source": [
    "### Underfitting and overfitting"
   ]
  },
  {
   "attachments": {},
   "cell_type": "markdown",
   "metadata": {
    "colab_type": "text"
   },
   "source": [
    "#### Noisy training data"
   ]
  },
  {
   "attachments": {},
   "cell_type": "markdown",
   "metadata": {
    "colab_type": "text"
   },
   "source": [
    "#### Ambiguous features"
   ]
  },
  {
   "attachments": {},
   "cell_type": "markdown",
   "metadata": {
    "colab_type": "text"
   },
   "source": [
    "#### Rare features and spurious correlations"
   ]
  },
  {
   "attachments": {},
   "cell_type": "markdown",
   "metadata": {
    "colab_type": "text"
   },
   "source": [
    "**Adding white-noise channels or all-zeros channels to MNIST**"
   ]
  },
  {
   "cell_type": "code",
   "execution_count": 1,
   "metadata": {
    "colab_type": "code"
   },
   "outputs": [],
   "source": [
    "from tensorflow.keras.datasets import mnist\n",
    "import numpy as np\n",
    "\n",
    "(train_images, train_labels), _ = mnist.load_data()\n",
    "train_images = train_images.reshape((60000, 28 * 28))\n",
    "train_images = train_images.astype(\"float32\") / 255\n",
    "\n",
    "train_images_with_noise_channels = np.concatenate(\n",
    "    [train_images, np.random.random((len(train_images), 784))], axis=1)\n",
    "\n",
    "train_images_with_zeros_channels = np.concatenate(\n",
    "    [train_images, np.zeros((len(train_images), 784))], axis=1)"
   ]
  },
  {
   "attachments": {},
   "cell_type": "markdown",
   "metadata": {
    "colab_type": "text"
   },
   "source": [
    "**Training the same model on MNIST data with noise channels or all-zero channels**"
   ]
  },
  {
   "cell_type": "code",
   "execution_count": 2,
   "metadata": {
    "colab_type": "code"
   },
   "outputs": [
    {
     "name": "stdout",
     "output_type": "stream",
     "text": [
      "Epoch 1/10\n",
      "375/375 [==============================] - 4s 9ms/step - loss: 0.6097 - accuracy: 0.8142 - val_loss: 0.4290 - val_accuracy: 0.8513\n",
      "Epoch 2/10\n",
      "375/375 [==============================] - 3s 8ms/step - loss: 0.2553 - accuracy: 0.9219 - val_loss: 0.2426 - val_accuracy: 0.9229\n",
      "Epoch 3/10\n",
      "375/375 [==============================] - 3s 9ms/step - loss: 0.1676 - accuracy: 0.9491 - val_loss: 0.1667 - val_accuracy: 0.9471\n",
      "Epoch 4/10\n",
      "375/375 [==============================] - 3s 9ms/step - loss: 0.1192 - accuracy: 0.9630 - val_loss: 0.1678 - val_accuracy: 0.9502\n",
      "Epoch 5/10\n",
      "375/375 [==============================] - 3s 9ms/step - loss: 0.0886 - accuracy: 0.9722 - val_loss: 0.1230 - val_accuracy: 0.9649\n",
      "Epoch 6/10\n",
      "375/375 [==============================] - 3s 9ms/step - loss: 0.0628 - accuracy: 0.9799 - val_loss: 0.1165 - val_accuracy: 0.9685\n",
      "Epoch 7/10\n",
      "375/375 [==============================] - 3s 9ms/step - loss: 0.0462 - accuracy: 0.9851 - val_loss: 0.1349 - val_accuracy: 0.9631\n",
      "Epoch 8/10\n",
      "375/375 [==============================] - 3s 9ms/step - loss: 0.0332 - accuracy: 0.9895 - val_loss: 0.1802 - val_accuracy: 0.9556\n",
      "Epoch 9/10\n",
      "375/375 [==============================] - 3s 9ms/step - loss: 0.0249 - accuracy: 0.9926 - val_loss: 0.1338 - val_accuracy: 0.9652\n",
      "Epoch 10/10\n",
      "375/375 [==============================] - 3s 9ms/step - loss: 0.0179 - accuracy: 0.9945 - val_loss: 0.1240 - val_accuracy: 0.9701\n",
      "Epoch 1/10\n",
      "375/375 [==============================] - 3s 9ms/step - loss: 0.2969 - accuracy: 0.9141 - val_loss: 0.1542 - val_accuracy: 0.9567\n",
      "Epoch 2/10\n",
      "375/375 [==============================] - 3s 8ms/step - loss: 0.1225 - accuracy: 0.9638 - val_loss: 0.1036 - val_accuracy: 0.9688\n",
      "Epoch 3/10\n",
      "375/375 [==============================] - 3s 8ms/step - loss: 0.0809 - accuracy: 0.9764 - val_loss: 0.1028 - val_accuracy: 0.9672\n",
      "Epoch 4/10\n",
      "375/375 [==============================] - 3s 8ms/step - loss: 0.0580 - accuracy: 0.9827 - val_loss: 0.0825 - val_accuracy: 0.9743\n",
      "Epoch 5/10\n",
      "375/375 [==============================] - 3s 8ms/step - loss: 0.0427 - accuracy: 0.9875 - val_loss: 0.0786 - val_accuracy: 0.9761\n",
      "Epoch 6/10\n",
      "375/375 [==============================] - 3s 8ms/step - loss: 0.0327 - accuracy: 0.9906 - val_loss: 0.0757 - val_accuracy: 0.9778\n",
      "Epoch 7/10\n",
      "375/375 [==============================] - 3s 8ms/step - loss: 0.0244 - accuracy: 0.9932 - val_loss: 0.0756 - val_accuracy: 0.9787\n",
      "Epoch 8/10\n",
      "375/375 [==============================] - 3s 8ms/step - loss: 0.0183 - accuracy: 0.9955 - val_loss: 0.0787 - val_accuracy: 0.9789\n",
      "Epoch 9/10\n",
      "375/375 [==============================] - 3s 8ms/step - loss: 0.0142 - accuracy: 0.9962 - val_loss: 0.0734 - val_accuracy: 0.9804\n",
      "Epoch 10/10\n",
      "375/375 [==============================] - 3s 8ms/step - loss: 0.0105 - accuracy: 0.9975 - val_loss: 0.0757 - val_accuracy: 0.9803\n"
     ]
    }
   ],
   "source": [
    "from tensorflow import keras\n",
    "from tensorflow.keras import layers\n",
    "\n",
    "def get_model():\n",
    "    # Create a simple model\n",
    "    model = keras.Sequential([\n",
    "        layers.Dense(512, activation=\"relu\"),\n",
    "        layers.Dense(10, activation=\"softmax\")\n",
    "    ])\n",
    "    model.compile(optimizer=\"rmsprop\",\n",
    "                  loss=\"sparse_categorical_crossentropy\",\n",
    "                  metrics=[\"accuracy\"])\n",
    "    return model\n",
    "\n",
    "model = get_model()\n",
    "history_noise = model.fit(\n",
    "    train_images_with_noise_channels, train_labels,\n",
    "    epochs=10,\n",
    "    batch_size=128,\n",
    "    validation_split=0.2)\n",
    "\n",
    "model = get_model()\n",
    "history_zeros = model.fit(\n",
    "    train_images_with_zeros_channels, train_labels,\n",
    "    epochs=10,\n",
    "    batch_size=128,\n",
    "    validation_split=0.2)"
   ]
  },
  {
   "attachments": {},
   "cell_type": "markdown",
   "metadata": {
    "colab_type": "text"
   },
   "source": [
    "**Plotting a validation accuracy comparison**"
   ]
  },
  {
   "cell_type": "code",
   "execution_count": 3,
   "metadata": {
    "colab_type": "code"
   },
   "outputs": [
    {
     "data": {
      "text/plain": [
       "<matplotlib.legend.Legend at 0x2509f898820>"
      ]
     },
     "execution_count": 3,
     "metadata": {},
     "output_type": "execute_result"
    },
    {
     "data": {
      "image/png": "[encoded data removed]",
      "text/plain": [
       "<Figure size 432x288 with 1 Axes>"
      ]
     },
     "metadata": {
      "needs_background": "light"
     },
     "output_type": "display_data"
    }
   ],
   "source": [
    "import matplotlib.pyplot as plt\n",
    "val_acc_noise = history_noise.history[\"val_accuracy\"]\n",
    "val_acc_zeros = history_zeros.history[\"val_accuracy\"]\n",
    "epochs = range(1, 11)\n",
    "plt.plot(epochs, val_acc_noise, \"b-\",\n",
    "         label=\"Validation accuracy with noise channels\")\n",
    "plt.plot(epochs, val_acc_zeros, \"b--\",\n",
    "         label=\"Validation accuracy with zeros channels\")\n",
    "plt.title(\"Effect of noise channels on validation accuracy\")\n",
    "plt.xlabel(\"Epochs\")\n",
    "plt.ylabel(\"Accuracy\")\n",
    "plt.legend()\n",
    "# 在深度学习中，画图对比不同方案的差异很重要"
   ]
  },
  {
   "attachments": {},
   "cell_type": "markdown",
   "metadata": {
    "colab_type": "text"
   },
   "source": [
    "### The nature of generalization in deep learning"
   ]
  },
  {
   "attachments": {},
   "cell_type": "markdown",
   "metadata": {
    "colab_type": "text"
   },
   "source": [
    "**Fitting a MNIST model with randomly shuffled labels**"
   ]
  },
  {
   "cell_type": "code",
   "execution_count": 4,
   "metadata": {
    "colab_type": "code"
   },
   "outputs": [
    {
     "name": "stdout",
     "output_type": "stream",
     "text": [
      "Epoch 1/100\n",
      "375/375 [==============================] - 3s 6ms/step - loss: 2.3160 - accuracy: 0.1018 - val_loss: 2.3069 - val_accuracy: 0.1058\n",
      "Epoch 2/100\n",
      "375/375 [==============================] - 2s 5ms/step - loss: 2.2995 - accuracy: 0.1181 - val_loss: 2.3122 - val_accuracy: 0.1035\n",
      "Epoch 3/100\n",
      "375/375 [==============================] - 2s 5ms/step - loss: 2.2911 - accuracy: 0.1264 - val_loss: 2.3251 - val_accuracy: 0.1057\n",
      "Epoch 4/100\n",
      "375/375 [==============================] - 2s 6ms/step - loss: 2.2794 - accuracy: 0.1401 - val_loss: 2.3212 - val_accuracy: 0.1067\n",
      "Epoch 5/100\n",
      "375/375 [==============================] - 2s 6ms/step - loss: 2.2639 - accuracy: 0.1525 - val_loss: 2.3405 - val_accuracy: 0.1039\n",
      "Epoch 6/100\n",
      "375/375 [==============================] - 2s 5ms/step - loss: 2.2449 - accuracy: 0.1674 - val_loss: 2.3527 - val_accuracy: 0.0995\n",
      "Epoch 7/100\n",
      "375/375 [==============================] - 2s 5ms/step - loss: 2.2217 - accuracy: 0.1796 - val_loss: 2.3669 - val_accuracy: 0.1018\n",
      "Epoch 8/100\n",
      "375/375 [==============================] - 2s 6ms/step - loss: 2.1959 - accuracy: 0.1957 - val_loss: 2.3775 - val_accuracy: 0.1003\n",
      "Epoch 9/100\n",
      "375/375 [==============================] - 2s 6ms/step - loss: 2.1655 - accuracy: 0.2141 - val_loss: 2.3950 - val_accuracy: 0.1026\n",
      "Epoch 10/100\n",
      "375/375 [==============================] - 2s 6ms/step - loss: 2.1350 - accuracy: 0.2262 - val_loss: 2.4147 - val_accuracy: 0.1039\n",
      "Epoch 11/100\n",
      "375/375 [==============================] - 2s 6ms/step - loss: 2.0993 - accuracy: 0.2469 - val_loss: 2.4462 - val_accuracy: 0.1054\n",
      "Epoch 12/100\n",
      "375/375 [==============================] - 2s 6ms/step - loss: 2.0645 - accuracy: 0.2638 - val_loss: 2.4718 - val_accuracy: 0.1018\n",
      "Epoch 13/100\n",
      "375/375 [==============================] - 2s 6ms/step - loss: 2.0284 - accuracy: 0.2770 - val_loss: 2.4937 - val_accuracy: 0.1005\n",
      "Epoch 14/100\n",
      "375/375 [==============================] - 2s 5ms/step - loss: 1.9910 - accuracy: 0.2932 - val_loss: 2.5114 - val_accuracy: 0.1041\n",
      "Epoch 15/100\n",
      "375/375 [==============================] - 2s 5ms/step - loss: 1.9537 - accuracy: 0.3110 - val_loss: 2.5494 - val_accuracy: 0.1022\n",
      "Epoch 16/100\n",
      "375/375 [==============================] - 2s 5ms/step - loss: 1.9163 - accuracy: 0.3266 - val_loss: 2.5962 - val_accuracy: 0.0978\n",
      "Epoch 17/100\n",
      "375/375 [==============================] - 2s 6ms/step - loss: 1.8761 - accuracy: 0.3415 - val_loss: 2.6173 - val_accuracy: 0.1013\n",
      "Epoch 18/100\n",
      "375/375 [==============================] - 2s 5ms/step - loss: 1.8367 - accuracy: 0.3568 - val_loss: 2.6590 - val_accuracy: 0.1010\n",
      "Epoch 19/100\n",
      "375/375 [==============================] - 2s 5ms/step - loss: 1.7983 - accuracy: 0.3727 - val_loss: 2.6915 - val_accuracy: 0.1013\n",
      "Epoch 20/100\n",
      "375/375 [==============================] - 2s 6ms/step - loss: 1.7605 - accuracy: 0.3877 - val_loss: 2.7238 - val_accuracy: 0.1032\n",
      "Epoch 21/100\n",
      "375/375 [==============================] - 2s 5ms/step - loss: 1.7237 - accuracy: 0.4052 - val_loss: 2.7714 - val_accuracy: 0.0998\n",
      "Epoch 22/100\n",
      "375/375 [==============================] - 2s 6ms/step - loss: 1.6874 - accuracy: 0.4155 - val_loss: 2.8319 - val_accuracy: 0.0997\n",
      "Epoch 23/100\n",
      "375/375 [==============================] - 2s 6ms/step - loss: 1.6489 - accuracy: 0.4316 - val_loss: 2.8743 - val_accuracy: 0.1047\n",
      "Epoch 24/100\n",
      "375/375 [==============================] - 2s 5ms/step - loss: 1.6147 - accuracy: 0.4417 - val_loss: 2.9000 - val_accuracy: 0.1015\n",
      "Epoch 25/100\n",
      "375/375 [==============================] - 2s 6ms/step - loss: 1.5791 - accuracy: 0.4583 - val_loss: 2.9519 - val_accuracy: 0.0988\n",
      "Epoch 26/100\n",
      "375/375 [==============================] - 2s 5ms/step - loss: 1.5446 - accuracy: 0.4692 - val_loss: 2.9980 - val_accuracy: 0.1018\n",
      "Epoch 27/100\n",
      "375/375 [==============================] - 2s 6ms/step - loss: 1.5110 - accuracy: 0.4851 - val_loss: 3.0401 - val_accuracy: 0.1010\n",
      "Epoch 28/100\n",
      "375/375 [==============================] - 2s 6ms/step - loss: 1.4792 - accuracy: 0.4951 - val_loss: 3.0964 - val_accuracy: 0.1020\n",
      "Epoch 29/100\n",
      "375/375 [==============================] - 2s 6ms/step - loss: 1.4477 - accuracy: 0.5056 - val_loss: 3.1390 - val_accuracy: 0.1018\n",
      "Epoch 30/100\n",
      "375/375 [==============================] - 2s 6ms/step - loss: 1.4173 - accuracy: 0.5186 - val_loss: 3.2035 - val_accuracy: 0.1007\n",
      "Epoch 31/100\n",
      "375/375 [==============================] - 2s 6ms/step - loss: 1.3865 - accuracy: 0.5288 - val_loss: 3.2356 - val_accuracy: 0.0984\n",
      "Epoch 32/100\n",
      "375/375 [==============================] - 2s 6ms/step - loss: 1.3570 - accuracy: 0.5400 - val_loss: 3.2787 - val_accuracy: 0.1009\n",
      "Epoch 33/100\n",
      "375/375 [==============================] - 2s 6ms/step - loss: 1.3272 - accuracy: 0.5494 - val_loss: 3.3429 - val_accuracy: 0.0967\n",
      "Epoch 34/100\n",
      "375/375 [==============================] - 2s 6ms/step - loss: 1.2997 - accuracy: 0.5616 - val_loss: 3.3997 - val_accuracy: 0.1001\n",
      "Epoch 35/100\n",
      "375/375 [==============================] - 2s 6ms/step - loss: 1.2695 - accuracy: 0.5716 - val_loss: 3.4542 - val_accuracy: 0.1067\n",
      "Epoch 36/100\n",
      "375/375 [==============================] - 2s 6ms/step - loss: 1.2433 - accuracy: 0.5810 - val_loss: 3.5272 - val_accuracy: 0.0976\n",
      "Epoch 37/100\n",
      "375/375 [==============================] - 2s 6ms/step - loss: 1.2189 - accuracy: 0.5904 - val_loss: 3.5633 - val_accuracy: 0.1028\n",
      "Epoch 38/100\n",
      "375/375 [==============================] - 2s 6ms/step - loss: 1.1929 - accuracy: 0.6008 - val_loss: 3.6437 - val_accuracy: 0.0990\n",
      "Epoch 39/100\n",
      "375/375 [==============================] - 2s 6ms/step - loss: 1.1658 - accuracy: 0.6082 - val_loss: 3.6947 - val_accuracy: 0.1023\n",
      "Epoch 40/100\n",
      "375/375 [==============================] - 2s 6ms/step - loss: 1.1402 - accuracy: 0.6186 - val_loss: 3.8305 - val_accuracy: 0.1011\n",
      "Epoch 41/100\n",
      "375/375 [==============================] - 2s 6ms/step - loss: 1.1167 - accuracy: 0.6277 - val_loss: 3.8308 - val_accuracy: 0.0984\n",
      "Epoch 42/100\n",
      "375/375 [==============================] - 2s 6ms/step - loss: 1.0947 - accuracy: 0.6348 - val_loss: 3.8873 - val_accuracy: 0.0986\n",
      "Epoch 43/100\n",
      "375/375 [==============================] - 2s 6ms/step - loss: 1.0698 - accuracy: 0.6444 - val_loss: 3.9410 - val_accuracy: 0.0975\n",
      "Epoch 44/100\n",
      "375/375 [==============================] - 2s 6ms/step - loss: 1.0481 - accuracy: 0.6521 - val_loss: 4.0086 - val_accuracy: 0.1013\n",
      "Epoch 45/100\n",
      "375/375 [==============================] - 2s 6ms/step - loss: 1.0276 - accuracy: 0.6578 - val_loss: 4.0519 - val_accuracy: 0.0977\n",
      "Epoch 46/100\n",
      "375/375 [==============================] - 2s 6ms/step - loss: 1.0048 - accuracy: 0.6666 - val_loss: 4.1410 - val_accuracy: 0.0996\n",
      "Epoch 47/100\n",
      "375/375 [==============================] - 2s 6ms/step - loss: 0.9854 - accuracy: 0.6724 - val_loss: 4.2089 - val_accuracy: 0.0982\n",
      "Epoch 48/100\n",
      "375/375 [==============================] - 2s 6ms/step - loss: 0.9628 - accuracy: 0.6815 - val_loss: 4.2479 - val_accuracy: 0.0962\n",
      "Epoch 49/100\n",
      "375/375 [==============================] - 2s 6ms/step - loss: 0.9445 - accuracy: 0.6884 - val_loss: 4.3219 - val_accuracy: 0.0985\n",
      "Epoch 50/100\n",
      "375/375 [==============================] - 2s 6ms/step - loss: 0.9232 - accuracy: 0.6979 - val_loss: 4.3751 - val_accuracy: 0.1002\n",
      "Epoch 51/100\n",
      "375/375 [==============================] - 2s 5ms/step - loss: 0.9045 - accuracy: 0.7007 - val_loss: 4.4760 - val_accuracy: 0.0976\n",
      "Epoch 52/100\n",
      "375/375 [==============================] - 2s 6ms/step - loss: 0.8875 - accuracy: 0.7101 - val_loss: 4.5888 - val_accuracy: 0.0981\n",
      "Epoch 53/100\n",
      "375/375 [==============================] - 2s 5ms/step - loss: 0.8692 - accuracy: 0.7134 - val_loss: 4.5529 - val_accuracy: 0.0983\n",
      "Epoch 54/100\n",
      "375/375 [==============================] - 2s 5ms/step - loss: 0.8501 - accuracy: 0.7213 - val_loss: 4.6544 - val_accuracy: 0.0983\n",
      "Epoch 55/100\n",
      "375/375 [==============================] - 2s 5ms/step - loss: 0.8339 - accuracy: 0.7283 - val_loss: 4.7432 - val_accuracy: 0.0981\n",
      "Epoch 56/100\n",
      "375/375 [==============================] - 2s 5ms/step - loss: 0.8157 - accuracy: 0.7335 - val_loss: 4.7759 - val_accuracy: 0.0964\n",
      "Epoch 57/100\n",
      "375/375 [==============================] - 2s 6ms/step - loss: 0.7990 - accuracy: 0.7412 - val_loss: 4.8298 - val_accuracy: 0.0986\n",
      "Epoch 58/100\n",
      "375/375 [==============================] - 2s 5ms/step - loss: 0.7838 - accuracy: 0.7434 - val_loss: 4.9407 - val_accuracy: 0.0990\n",
      "Epoch 59/100\n",
      "375/375 [==============================] - 2s 5ms/step - loss: 0.7678 - accuracy: 0.7491 - val_loss: 5.0263 - val_accuracy: 0.0983\n",
      "Epoch 60/100\n",
      "375/375 [==============================] - 2s 5ms/step - loss: 0.7524 - accuracy: 0.7568 - val_loss: 5.0562 - val_accuracy: 0.0953\n",
      "Epoch 61/100\n",
      "375/375 [==============================] - 2s 5ms/step - loss: 0.7377 - accuracy: 0.7615 - val_loss: 5.1032 - val_accuracy: 0.0998\n",
      "Epoch 62/100\n",
      "375/375 [==============================] - 2s 5ms/step - loss: 0.7227 - accuracy: 0.7658 - val_loss: 5.1878 - val_accuracy: 0.1037\n",
      "Epoch 63/100\n",
      "375/375 [==============================] - 2s 5ms/step - loss: 0.7082 - accuracy: 0.7723 - val_loss: 5.2717 - val_accuracy: 0.0979\n",
      "Epoch 64/100\n",
      "375/375 [==============================] - 2s 5ms/step - loss: 0.6920 - accuracy: 0.7782 - val_loss: 5.3514 - val_accuracy: 0.0979\n",
      "Epoch 65/100\n",
      "375/375 [==============================] - 2s 5ms/step - loss: 0.6806 - accuracy: 0.7809 - val_loss: 5.4391 - val_accuracy: 0.0981\n",
      "Epoch 66/100\n",
      "375/375 [==============================] - 2s 5ms/step - loss: 0.6681 - accuracy: 0.7853 - val_loss: 5.4720 - val_accuracy: 0.0998\n",
      "Epoch 67/100\n",
      "375/375 [==============================] - 2s 5ms/step - loss: 0.6543 - accuracy: 0.7901 - val_loss: 5.5562 - val_accuracy: 0.0986\n",
      "Epoch 68/100\n",
      "375/375 [==============================] - 2s 5ms/step - loss: 0.6407 - accuracy: 0.7921 - val_loss: 5.6719 - val_accuracy: 0.0973\n",
      "Epoch 69/100\n",
      "375/375 [==============================] - 2s 6ms/step - loss: 0.6272 - accuracy: 0.7997 - val_loss: 5.7195 - val_accuracy: 0.0986\n",
      "Epoch 70/100\n",
      "375/375 [==============================] - 2s 5ms/step - loss: 0.6164 - accuracy: 0.8025 - val_loss: 5.7677 - val_accuracy: 0.0999\n",
      "Epoch 71/100\n",
      "375/375 [==============================] - 2s 6ms/step - loss: 0.6046 - accuracy: 0.8065 - val_loss: 5.8881 - val_accuracy: 0.0958\n",
      "Epoch 72/100\n",
      "375/375 [==============================] - 2s 6ms/step - loss: 0.5928 - accuracy: 0.8100 - val_loss: 5.9150 - val_accuracy: 0.0992\n",
      "Epoch 73/100\n",
      "375/375 [==============================] - 2s 6ms/step - loss: 0.5818 - accuracy: 0.8158 - val_loss: 5.9665 - val_accuracy: 0.1003\n",
      "Epoch 74/100\n",
      "375/375 [==============================] - 2s 6ms/step - loss: 0.5699 - accuracy: 0.8195 - val_loss: 6.0742 - val_accuracy: 0.0968\n",
      "Epoch 75/100\n",
      "375/375 [==============================] - 2s 6ms/step - loss: 0.5597 - accuracy: 0.8227 - val_loss: 6.1770 - val_accuracy: 0.0974\n",
      "Epoch 76/100\n",
      "375/375 [==============================] - 2s 6ms/step - loss: 0.5507 - accuracy: 0.8255 - val_loss: 6.2346 - val_accuracy: 0.0978\n",
      "Epoch 77/100\n",
      "375/375 [==============================] - 2s 6ms/step - loss: 0.5377 - accuracy: 0.8292 - val_loss: 6.3040 - val_accuracy: 0.0967\n",
      "Epoch 78/100\n",
      "375/375 [==============================] - 2s 6ms/step - loss: 0.5282 - accuracy: 0.8328 - val_loss: 6.3645 - val_accuracy: 0.0979\n",
      "Epoch 79/100\n",
      "375/375 [==============================] - 2s 6ms/step - loss: 0.5182 - accuracy: 0.8358 - val_loss: 6.4443 - val_accuracy: 0.0978\n",
      "Epoch 80/100\n",
      "375/375 [==============================] - 2s 6ms/step - loss: 0.5079 - accuracy: 0.8397 - val_loss: 6.5255 - val_accuracy: 0.1005\n",
      "Epoch 81/100\n",
      "375/375 [==============================] - 2s 6ms/step - loss: 0.4996 - accuracy: 0.8427 - val_loss: 6.5881 - val_accuracy: 0.0997\n",
      "Epoch 82/100\n",
      "375/375 [==============================] - 2s 6ms/step - loss: 0.4897 - accuracy: 0.8470 - val_loss: 6.6593 - val_accuracy: 0.0963\n",
      "Epoch 83/100\n",
      "375/375 [==============================] - 2s 6ms/step - loss: 0.4823 - accuracy: 0.8487 - val_loss: 6.7175 - val_accuracy: 0.0982\n",
      "Epoch 84/100\n",
      "375/375 [==============================] - 2s 6ms/step - loss: 0.4732 - accuracy: 0.8501 - val_loss: 6.8184 - val_accuracy: 0.0983\n",
      "Epoch 85/100\n",
      "375/375 [==============================] - 2s 5ms/step - loss: 0.4619 - accuracy: 0.8559 - val_loss: 6.9090 - val_accuracy: 0.0999\n",
      "Epoch 86/100\n",
      "375/375 [==============================] - 2s 6ms/step - loss: 0.4546 - accuracy: 0.8573 - val_loss: 6.9711 - val_accuracy: 0.0971\n",
      "Epoch 87/100\n",
      "375/375 [==============================] - 2s 6ms/step - loss: 0.4452 - accuracy: 0.8601 - val_loss: 7.0356 - val_accuracy: 0.0962\n",
      "Epoch 88/100\n",
      "375/375 [==============================] - 2s 6ms/step - loss: 0.4378 - accuracy: 0.8623 - val_loss: 7.1934 - val_accuracy: 0.0983\n",
      "Epoch 89/100\n",
      "375/375 [==============================] - 2s 5ms/step - loss: 0.4286 - accuracy: 0.8662 - val_loss: 7.1712 - val_accuracy: 0.0984\n",
      "Epoch 90/100\n",
      "375/375 [==============================] - 2s 5ms/step - loss: 0.4215 - accuracy: 0.8679 - val_loss: 7.2566 - val_accuracy: 0.0958\n",
      "Epoch 91/100\n",
      "375/375 [==============================] - 2s 5ms/step - loss: 0.4124 - accuracy: 0.8716 - val_loss: 7.3451 - val_accuracy: 0.0983\n",
      "Epoch 92/100\n",
      "375/375 [==============================] - 2s 5ms/step - loss: 0.4073 - accuracy: 0.8714 - val_loss: 7.4023 - val_accuracy: 0.0979\n",
      "Epoch 93/100\n",
      "375/375 [==============================] - 2s 6ms/step - loss: 0.3998 - accuracy: 0.8763 - val_loss: 7.4798 - val_accuracy: 0.0970\n",
      "Epoch 94/100\n",
      "375/375 [==============================] - 2s 6ms/step - loss: 0.3916 - accuracy: 0.8789 - val_loss: 7.5783 - val_accuracy: 0.0998\n",
      "Epoch 95/100\n",
      "375/375 [==============================] - 2s 6ms/step - loss: 0.3858 - accuracy: 0.8807 - val_loss: 7.6448 - val_accuracy: 0.1000\n",
      "Epoch 96/100\n",
      "375/375 [==============================] - 2s 6ms/step - loss: 0.3771 - accuracy: 0.8830 - val_loss: 7.7730 - val_accuracy: 0.0986\n",
      "Epoch 97/100\n",
      "375/375 [==============================] - 2s 6ms/step - loss: 0.3716 - accuracy: 0.8839 - val_loss: 7.8240 - val_accuracy: 0.1003\n",
      "Epoch 98/100\n",
      "375/375 [==============================] - 2s 6ms/step - loss: 0.3637 - accuracy: 0.8880 - val_loss: 7.8570 - val_accuracy: 0.0988\n",
      "Epoch 99/100\n",
      "375/375 [==============================] - 2s 6ms/step - loss: 0.3593 - accuracy: 0.8889 - val_loss: 8.0003 - val_accuracy: 0.1000\n",
      "Epoch 100/100\n",
      "375/375 [==============================] - 2s 6ms/step - loss: 0.3523 - accuracy: 0.8923 - val_loss: 8.0031 - val_accuracy: 0.0965\n"
     ]
    },
    {
     "data": {
      "text/plain": [
       "<keras.callbacks.History at 0x2508000d940>"
      ]
     },
     "execution_count": 4,
     "metadata": {},
     "output_type": "execute_result"
    }
   ],
   "source": [
    "(train_images, train_labels), _ = mnist.load_data()\n",
    "train_images = train_images.reshape((60000, 28 * 28))\n",
    "train_images = train_images.astype(\"float32\") / 255\n",
    "\n",
    "random_train_labels = train_labels[:]\n",
    "np.random.shuffle(random_train_labels)\n",
    "\n",
    "model = keras.Sequential([\n",
    "    layers.Dense(512, activation=\"relu\"),\n",
    "    layers.Dense(10, activation=\"softmax\")\n",
    "])\n",
    "model.compile(optimizer=\"rmsprop\",\n",
    "              loss=\"sparse_categorical_crossentropy\",\n",
    "              metrics=[\"accuracy\"])\n",
    "model.fit(train_images, random_train_labels,\n",
    "          epochs=100,\n",
    "          batch_size=128,\n",
    "          validation_split=0.2)"
   ]
  },
  {
   "attachments": {},
   "cell_type": "markdown",
   "metadata": {
    "colab_type": "text"
   },
   "source": [
    "#### The manifold hypothesis"
   ]
  },
  {
   "attachments": {},
   "cell_type": "markdown",
   "metadata": {
    "colab_type": "text"
   },
   "source": [
    "#### Interpolation as a source of generalization"
   ]
  },
  {
   "attachments": {},
   "cell_type": "markdown",
   "metadata": {
    "colab_type": "text"
   },
   "source": [
    "#### Why deep learning works"
   ]
  },
  {
   "attachments": {},
   "cell_type": "markdown",
   "metadata": {
    "colab_type": "text"
   },
   "source": [
    "#### Training data is paramount"
   ]
  },
  {
   "attachments": {},
   "cell_type": "markdown",
   "metadata": {
    "colab_type": "text"
   },
   "source": [
    "## Evaluating machine-learning models"
   ]
  },
  {
   "attachments": {},
   "cell_type": "markdown",
   "metadata": {
    "colab_type": "text"
   },
   "source": [
    "### Training, validation, and test sets"
   ]
  },
  {
   "attachments": {},
   "cell_type": "markdown",
   "metadata": {
    "colab_type": "text"
   },
   "source": [
    "#### Simple hold-out validation"
   ]
  },
  {
   "attachments": {},
   "cell_type": "markdown",
   "metadata": {
    "colab_type": "text"
   },
   "source": [
    "#### K-fold validation"
   ]
  },
  {
   "attachments": {},
   "cell_type": "markdown",
   "metadata": {
    "colab_type": "text"
   },
   "source": [
    "#### Iterated K-fold validation with shuffling"
   ]
  },
  {
   "attachments": {},
   "cell_type": "markdown",
   "metadata": {
    "colab_type": "text"
   },
   "source": [
    "### Beating a common-sense baseline"
   ]
  },
  {
   "attachments": {},
   "cell_type": "markdown",
   "metadata": {
    "colab_type": "text"
   },
   "source": [
    "### Things to keep in mind about model evaluation"
   ]
  },
  {
   "attachments": {},
   "cell_type": "markdown",
   "metadata": {
    "colab_type": "text"
   },
   "source": [
    "## Improving model fit"
   ]
  },
  {
   "attachments": {},
   "cell_type": "markdown",
   "metadata": {
    "colab_type": "text"
   },
   "source": [
    "### Tuning key gradient descent parameters"
   ]
  },
  {
   "attachments": {},
   "cell_type": "markdown",
   "metadata": {
    "colab_type": "text"
   },
   "source": [
    "**Training a MNIST model with an incorrectly high learning rate**"
   ]
  },
  {
   "cell_type": "code",
   "execution_count": 10,
   "metadata": {
    "colab_type": "code"
   },
   "outputs": [
    {
     "name": "stdout",
     "output_type": "stream",
     "text": [
      "Epoch 1/10\n",
      "375/375 [==============================] - 2s 6ms/step - loss: 478.0742 - accuracy: 0.2690 - val_loss: 2.3550 - val_accuracy: 0.1638\n",
      "Epoch 2/10\n",
      "375/375 [==============================] - 2s 6ms/step - loss: 2.4967 - accuracy: 0.1526 - val_loss: 2.6023 - val_accuracy: 0.1061\n",
      "Epoch 3/10\n",
      "375/375 [==============================] - 2s 6ms/step - loss: 2.5026 - accuracy: 0.1489 - val_loss: 2.4925 - val_accuracy: 0.1797\n",
      "Epoch 4/10\n",
      "375/375 [==============================] - 2s 6ms/step - loss: 2.3858 - accuracy: 0.1608 - val_loss: 2.1698 - val_accuracy: 0.1717\n",
      "Epoch 5/10\n",
      "375/375 [==============================] - 2s 6ms/step - loss: 2.4035 - accuracy: 0.1662 - val_loss: 2.3924 - val_accuracy: 0.1922\n",
      "Epoch 6/10\n",
      "375/375 [==============================] - 2s 6ms/step - loss: 2.3999 - accuracy: 0.1785 - val_loss: 2.4515 - val_accuracy: 0.1860\n",
      "Epoch 7/10\n",
      "375/375 [==============================] - 2s 6ms/step - loss: 2.4773 - accuracy: 0.1860 - val_loss: 2.1937 - val_accuracy: 0.1928\n",
      "Epoch 8/10\n",
      "375/375 [==============================] - 2s 5ms/step - loss: 2.4568 - accuracy: 0.1772 - val_loss: 2.1575 - val_accuracy: 0.1787\n",
      "Epoch 9/10\n",
      "375/375 [==============================] - 2s 5ms/step - loss: 2.4412 - accuracy: 0.1777 - val_loss: 2.3087 - val_accuracy: 0.1869\n",
      "Epoch 10/10\n",
      "375/375 [==============================] - 2s 5ms/step - loss: 2.2637 - accuracy: 0.1842 - val_loss: 2.1361 - val_accuracy: 0.1998\n"
     ]
    },
    {
     "data": {
      "text/plain": [
       "<keras.callbacks.History at 0x2508276fd30>"
      ]
     },
     "execution_count": 10,
     "metadata": {},
     "output_type": "execute_result"
    }
   ],
   "source": [
    "(train_images, train_labels), _ = mnist.load_data()\n",
    "train_images = train_images.reshape((60000, 28 * 28))\n",
    "train_images = train_images.astype(\"float32\") / 255\n",
    "\n",
    "model = keras.Sequential([\n",
    "    layers.Dense(512, activation=\"relu\"),\n",
    "    layers.Dense(10, activation=\"softmax\")\n",
    "])\n",
    "model.compile(optimizer=keras.optimizers.RMSprop(1.), # 学习率为 1.0\n",
    "              loss=\"sparse_categorical_crossentropy\",\n",
    "              metrics=[\"accuracy\"])\n",
    "model.fit(train_images, train_labels,\n",
    "          epochs=10,\n",
    "          batch_size=128,\n",
    "          validation_split=0.2)"
   ]
  },
  {
   "attachments": {},
   "cell_type": "markdown",
   "metadata": {
    "colab_type": "text"
   },
   "source": [
    "**The same model with a more appropriate learning rate**"
   ]
  },
  {
   "cell_type": "code",
   "execution_count": 13,
   "metadata": {
    "colab_type": "code"
   },
   "outputs": [
    {
     "name": "stdout",
     "output_type": "stream",
     "text": [
      "Epoch 1/10\n",
      "375/375 [==============================] - 3s 6ms/step - loss: 0.3521 - accuracy: 0.9104 - val_loss: 0.1409 - val_accuracy: 0.9625\n",
      "Epoch 2/10\n",
      "375/375 [==============================] - 2s 6ms/step - loss: 0.1256 - accuracy: 0.9653 - val_loss: 0.1547 - val_accuracy: 0.9604\n",
      "Epoch 3/10\n",
      "375/375 [==============================] - 2s 6ms/step - loss: 0.0987 - accuracy: 0.9736 - val_loss: 0.1520 - val_accuracy: 0.9653\n",
      "Epoch 4/10\n",
      "375/375 [==============================] - 2s 6ms/step - loss: 0.0835 - accuracy: 0.9791 - val_loss: 0.1511 - val_accuracy: 0.9691\n",
      "Epoch 5/10\n",
      "375/375 [==============================] - 2s 6ms/step - loss: 0.0725 - accuracy: 0.9825 - val_loss: 0.2262 - val_accuracy: 0.9627\n",
      "Epoch 6/10\n",
      "375/375 [==============================] - 2s 6ms/step - loss: 0.0674 - accuracy: 0.9846 - val_loss: 0.2053 - val_accuracy: 0.9672\n",
      "Epoch 7/10\n",
      "375/375 [==============================] - 2s 6ms/step - loss: 0.0540 - accuracy: 0.9870 - val_loss: 0.2005 - val_accuracy: 0.9721\n",
      "Epoch 8/10\n",
      "375/375 [==============================] - 2s 6ms/step - loss: 0.0484 - accuracy: 0.9883 - val_loss: 0.1962 - val_accuracy: 0.9732\n",
      "Epoch 9/10\n",
      "375/375 [==============================] - 2s 6ms/step - loss: 0.0403 - accuracy: 0.9906 - val_loss: 0.2045 - val_accuracy: 0.9741\n",
      "Epoch 10/10\n",
      "375/375 [==============================] - 2s 6ms/step - loss: 0.0378 - accuracy: 0.9916 - val_loss: 0.2345 - val_accuracy: 0.9733\n"
     ]
    },
    {
     "data": {
      "text/plain": [
       "<keras.callbacks.History at 0x250834f0400>"
      ]
     },
     "execution_count": 13,
     "metadata": {},
     "output_type": "execute_result"
    }
   ],
   "source": [
    "model = keras.Sequential([\n",
    "    layers.Dense(512, activation=\"relu\"),\n",
    "    layers.Dense(10, activation=\"softmax\")\n",
    "])\n",
    "model.compile(optimizer=keras.optimizers.RMSprop(1e-2), # 学习率为 0.01\n",
    "              loss=\"sparse_categorical_crossentropy\",\n",
    "              metrics=[\"accuracy\"])\n",
    "model.fit(train_images, train_labels,\n",
    "          epochs=10,\n",
    "          batch_size=128,\n",
    "          validation_split=0.2)"
   ]
  },
  {
   "attachments": {},
   "cell_type": "markdown",
   "metadata": {
    "colab_type": "text"
   },
   "source": [
    "### Leveraging better architecture priors"
   ]
  },
  {
   "attachments": {},
   "cell_type": "markdown",
   "metadata": {
    "colab_type": "text"
   },
   "source": [
    "### Increasing model capacity"
   ]
  },
  {
   "attachments": {},
   "cell_type": "markdown",
   "metadata": {
    "colab_type": "text"
   },
   "source": [
    "**A simple logistic regression on MNIST**"
   ]
  },
  {
   "cell_type": "code",
   "execution_count": 7,
   "metadata": {
    "colab_type": "code"
   },
   "outputs": [
    {
     "name": "stdout",
     "output_type": "stream",
     "text": [
      "Epoch 1/20\n",
      "375/375 [==============================] - 1s 2ms/step - loss: 0.6700 - accuracy: 0.8326 - val_loss: 0.3615 - val_accuracy: 0.9033\n",
      "Epoch 2/20\n",
      "375/375 [==============================] - 0s 1ms/step - loss: 0.3551 - accuracy: 0.9024 - val_loss: 0.3089 - val_accuracy: 0.9131\n",
      "Epoch 3/20\n",
      "375/375 [==============================] - 0s 1ms/step - loss: 0.3185 - accuracy: 0.9110 - val_loss: 0.2938 - val_accuracy: 0.9180\n",
      "Epoch 4/20\n",
      "375/375 [==============================] - 0s 1ms/step - loss: 0.3020 - accuracy: 0.9158 - val_loss: 0.2825 - val_accuracy: 0.9209\n",
      "Epoch 5/20\n",
      "375/375 [==============================] - 0s 1ms/step - loss: 0.2924 - accuracy: 0.9187 - val_loss: 0.2784 - val_accuracy: 0.9232\n",
      "Epoch 6/20\n",
      "375/375 [==============================] - 0s 1ms/step - loss: 0.2859 - accuracy: 0.9196 - val_loss: 0.2744 - val_accuracy: 0.9243\n",
      "Epoch 7/20\n",
      "375/375 [==============================] - 0s 1ms/step - loss: 0.2807 - accuracy: 0.9218 - val_loss: 0.2713 - val_accuracy: 0.9265\n",
      "Epoch 8/20\n",
      "375/375 [==============================] - 0s 1ms/step - loss: 0.2768 - accuracy: 0.9226 - val_loss: 0.2692 - val_accuracy: 0.9287\n",
      "Epoch 9/20\n",
      "375/375 [==============================] - 0s 1ms/step - loss: 0.2735 - accuracy: 0.9238 - val_loss: 0.2669 - val_accuracy: 0.9284\n",
      "Epoch 10/20\n",
      "375/375 [==============================] - 0s 1ms/step - loss: 0.2707 - accuracy: 0.9250 - val_loss: 0.2650 - val_accuracy: 0.9284\n",
      "Epoch 11/20\n",
      "375/375 [==============================] - 0s 1ms/step - loss: 0.2687 - accuracy: 0.9250 - val_loss: 0.2669 - val_accuracy: 0.9286\n",
      "Epoch 12/20\n",
      "375/375 [==============================] - 0s 1ms/step - loss: 0.2664 - accuracy: 0.9256 - val_loss: 0.2642 - val_accuracy: 0.9287\n",
      "Epoch 13/20\n",
      "375/375 [==============================] - 0s 1ms/step - loss: 0.2648 - accuracy: 0.9272 - val_loss: 0.2655 - val_accuracy: 0.9273\n",
      "Epoch 14/20\n",
      "375/375 [==============================] - 0s 1ms/step - loss: 0.2633 - accuracy: 0.9271 - val_loss: 0.2633 - val_accuracy: 0.9293\n",
      "Epoch 15/20\n",
      "375/375 [==============================] - 0s 1ms/step - loss: 0.2618 - accuracy: 0.9277 - val_loss: 0.2646 - val_accuracy: 0.9285\n",
      "Epoch 16/20\n",
      "375/375 [==============================] - 0s 1ms/step - loss: 0.2606 - accuracy: 0.9285 - val_loss: 0.2628 - val_accuracy: 0.9296\n",
      "Epoch 17/20\n",
      "375/375 [==============================] - 0s 1ms/step - loss: 0.2594 - accuracy: 0.9286 - val_loss: 0.2631 - val_accuracy: 0.9298\n",
      "Epoch 18/20\n",
      "375/375 [==============================] - 0s 1ms/step - loss: 0.2582 - accuracy: 0.9287 - val_loss: 0.2623 - val_accuracy: 0.9303\n",
      "Epoch 19/20\n",
      "375/375 [==============================] - 0s 1ms/step - loss: 0.2570 - accuracy: 0.9298 - val_loss: 0.2615 - val_accuracy: 0.9296\n",
      "Epoch 20/20\n",
      "375/375 [==============================] - 0s 1ms/step - loss: 0.2565 - accuracy: 0.9297 - val_loss: 0.2642 - val_accuracy: 0.9297\n"
     ]
    }
   ],
   "source": [
    "model = keras.Sequential([layers.Dense(10, activation=\"softmax\")])\n",
    "model.compile(optimizer=\"rmsprop\",\n",
    "              loss=\"sparse_categorical_crossentropy\",\n",
    "              metrics=[\"accuracy\"])\n",
    "history_small_model = model.fit(\n",
    "    train_images, train_labels,\n",
    "    epochs=20,\n",
    "    batch_size=128,\n",
    "    validation_split=0.2)"
   ]
  },
  {
   "cell_type": "code",
   "execution_count": 8,
   "metadata": {
    "colab_type": "code"
   },
   "outputs": [
    {
     "data": {
      "text/plain": [
       "<matplotlib.legend.Legend at 0x25080c53d60>"
      ]
     },
     "execution_count": 8,
     "metadata": {},
     "output_type": "execute_result"
    },
    {
     "data": {
      "image/png": "[encoded data removed]",
      "text/plain": [
       "<Figure size 432x288 with 1 Axes>"
      ]
     },
     "metadata": {
      "needs_background": "light"
     },
     "output_type": "display_data"
    }
   ],
   "source": [
    "import matplotlib.pyplot as plt\n",
    "val_loss = history_small_model.history[\"val_loss\"]\n",
    "epochs = range(1, 21)\n",
    "plt.plot(epochs, val_loss, \"b--\",\n",
    "         label=\"Validation loss\")\n",
    "plt.title(\"Effect of insufficient model capacity on validation loss\")\n",
    "plt.xlabel(\"Epochs\")\n",
    "plt.ylabel(\"Loss\")\n",
    "plt.legend()"
   ]
  },
  {
   "cell_type": "code",
   "execution_count": 14,
   "metadata": {
    "colab_type": "code"
   },
   "outputs": [
    {
     "name": "stdout",
     "output_type": "stream",
     "text": [
      "Epoch 1/20\n",
      "375/375 [==============================] - 1s 2ms/step - loss: 0.3733 - accuracy: 0.8943 - val_loss: 0.1825 - val_accuracy: 0.9490\n",
      "Epoch 2/20\n",
      "375/375 [==============================] - 1s 2ms/step - loss: 0.1704 - accuracy: 0.9506 - val_loss: 0.1481 - val_accuracy: 0.9551\n",
      "Epoch 3/20\n",
      "375/375 [==============================] - 1s 2ms/step - loss: 0.1235 - accuracy: 0.9637 - val_loss: 0.1242 - val_accuracy: 0.9622\n",
      "Epoch 4/20\n",
      "375/375 [==============================] - 1s 2ms/step - loss: 0.0940 - accuracy: 0.9722 - val_loss: 0.1115 - val_accuracy: 0.9676\n",
      "Epoch 5/20\n",
      "375/375 [==============================] - 1s 2ms/step - loss: 0.0755 - accuracy: 0.9770 - val_loss: 0.0992 - val_accuracy: 0.9689\n",
      "Epoch 6/20\n",
      "375/375 [==============================] - 1s 2ms/step - loss: 0.0611 - accuracy: 0.9809 - val_loss: 0.0929 - val_accuracy: 0.9719\n",
      "Epoch 7/20\n",
      "375/375 [==============================] - 1s 2ms/step - loss: 0.0506 - accuracy: 0.9848 - val_loss: 0.0940 - val_accuracy: 0.9718\n",
      "Epoch 8/20\n",
      "375/375 [==============================] - 1s 2ms/step - loss: 0.0421 - accuracy: 0.9874 - val_loss: 0.0929 - val_accuracy: 0.9736\n",
      "Epoch 9/20\n",
      "375/375 [==============================] - 1s 2ms/step - loss: 0.0349 - accuracy: 0.9894 - val_loss: 0.0946 - val_accuracy: 0.9756\n",
      "Epoch 10/20\n",
      "375/375 [==============================] - 1s 2ms/step - loss: 0.0292 - accuracy: 0.9906 - val_loss: 0.0938 - val_accuracy: 0.9748\n",
      "Epoch 11/20\n",
      "375/375 [==============================] - 1s 2ms/step - loss: 0.0243 - accuracy: 0.9923 - val_loss: 0.1014 - val_accuracy: 0.9746\n",
      "Epoch 12/20\n",
      "375/375 [==============================] - 1s 2ms/step - loss: 0.0211 - accuracy: 0.9935 - val_loss: 0.1002 - val_accuracy: 0.9768\n",
      "Epoch 13/20\n",
      "375/375 [==============================] - 1s 2ms/step - loss: 0.0174 - accuracy: 0.9948 - val_loss: 0.1102 - val_accuracy: 0.9751\n",
      "Epoch 14/20\n",
      "375/375 [==============================] - 1s 2ms/step - loss: 0.0143 - accuracy: 0.9960 - val_loss: 0.1029 - val_accuracy: 0.9769\n",
      "Epoch 15/20\n",
      "375/375 [==============================] - 1s 2ms/step - loss: 0.0127 - accuracy: 0.9961 - val_loss: 0.1094 - val_accuracy: 0.9762\n",
      "Epoch 16/20\n",
      "375/375 [==============================] - 1s 2ms/step - loss: 0.0101 - accuracy: 0.9973 - val_loss: 0.1231 - val_accuracy: 0.9743\n",
      "Epoch 17/20\n",
      "375/375 [==============================] - 1s 2ms/step - loss: 0.0096 - accuracy: 0.9970 - val_loss: 0.1193 - val_accuracy: 0.9743\n",
      "Epoch 18/20\n",
      "375/375 [==============================] - 1s 2ms/step - loss: 0.0081 - accuracy: 0.9971 - val_loss: 0.1204 - val_accuracy: 0.9737\n",
      "Epoch 19/20\n",
      "375/375 [==============================] - 1s 2ms/step - loss: 0.0066 - accuracy: 0.9982 - val_loss: 0.1229 - val_accuracy: 0.9760\n",
      "Epoch 20/20\n",
      "375/375 [==============================] - 1s 2ms/step - loss: 0.0061 - accuracy: 0.9982 - val_loss: 0.1212 - val_accuracy: 0.9753\n"
     ]
    }
   ],
   "source": [
    "model = keras.Sequential([\n",
    "    layers.Dense(96, activation=\"relu\"),\n",
    "    layers.Dense(96, activation=\"relu\"),\n",
    "    layers.Dense(10, activation=\"softmax\"),\n",
    "])\n",
    "model.compile(optimizer=\"rmsprop\",\n",
    "              loss=\"sparse_categorical_crossentropy\",\n",
    "              metrics=[\"accuracy\"])\n",
    "history_large_model = model.fit(\n",
    "    train_images, train_labels,\n",
    "    epochs=20,\n",
    "    batch_size=128,\n",
    "    validation_split=0.2)"
   ]
  },
  {
   "attachments": {},
   "cell_type": "markdown",
   "metadata": {
    "colab_type": "text"
   },
   "source": [
    "## Improving generalization"
   ]
  },
  {
   "attachments": {},
   "cell_type": "markdown",
   "metadata": {
    "colab_type": "text"
   },
   "source": [
    "### Dataset curation"
   ]
  },
  {
   "attachments": {},
   "cell_type": "markdown",
   "metadata": {
    "colab_type": "text"
   },
   "source": [
    "### Feature engineering"
   ]
  },
  {
   "attachments": {},
   "cell_type": "markdown",
   "metadata": {
    "colab_type": "text"
   },
   "source": [
    "### Using early stopping"
   ]
  },
  {
   "attachments": {},
   "cell_type": "markdown",
   "metadata": {
    "colab_type": "text"
   },
   "source": [
    "### Regularizing your model"
   ]
  },
  {
   "attachments": {},
   "cell_type": "markdown",
   "metadata": {
    "colab_type": "text"
   },
   "source": [
    "#### Reducing the network's size"
   ]
  },
  {
   "attachments": {},
   "cell_type": "markdown",
   "metadata": {
    "colab_type": "text"
   },
   "source": [
    "**Original model**"
   ]
  },
  {
   "cell_type": "code",
   "execution_count": 15,
   "metadata": {
    "colab_type": "code"
   },
   "outputs": [
    {
     "name": "stdout",
     "output_type": "stream",
     "text": [
      "Epoch 1/20\n",
      "30/30 [==============================] - 1s 28ms/step - loss: 0.5391 - accuracy: 0.7561 - val_loss: 0.4062 - val_accuracy: 0.8677\n",
      "Epoch 2/20\n",
      "30/30 [==============================] - 1s 17ms/step - loss: 0.3246 - accuracy: 0.8963 - val_loss: 0.3080 - val_accuracy: 0.8875\n",
      "Epoch 3/20\n",
      "30/30 [==============================] - 0s 16ms/step - loss: 0.2401 - accuracy: 0.9194 - val_loss: 0.2872 - val_accuracy: 0.8875\n",
      "Epoch 4/20\n",
      "30/30 [==============================] - 0s 16ms/step - loss: 0.1935 - accuracy: 0.9368 - val_loss: 0.3058 - val_accuracy: 0.8766\n",
      "Epoch 5/20\n",
      "30/30 [==============================] - 0s 16ms/step - loss: 0.1617 - accuracy: 0.9462 - val_loss: 0.2811 - val_accuracy: 0.8891\n",
      "Epoch 6/20\n",
      "30/30 [==============================] - 0s 16ms/step - loss: 0.1386 - accuracy: 0.9552 - val_loss: 0.3036 - val_accuracy: 0.8818\n",
      "Epoch 7/20\n",
      "30/30 [==============================] - 0s 16ms/step - loss: 0.1159 - accuracy: 0.9643 - val_loss: 0.3046 - val_accuracy: 0.8849\n",
      "Epoch 8/20\n",
      "30/30 [==============================] - 0s 16ms/step - loss: 0.0983 - accuracy: 0.9711 - val_loss: 0.3183 - val_accuracy: 0.8829\n",
      "Epoch 9/20\n",
      "30/30 [==============================] - 0s 16ms/step - loss: 0.0841 - accuracy: 0.9769 - val_loss: 0.3401 - val_accuracy: 0.8796\n",
      "Epoch 10/20\n",
      "30/30 [==============================] - 0s 17ms/step - loss: 0.0742 - accuracy: 0.9801 - val_loss: 0.3481 - val_accuracy: 0.8796\n",
      "Epoch 11/20\n",
      "30/30 [==============================] - 0s 16ms/step - loss: 0.0601 - accuracy: 0.9859 - val_loss: 0.3782 - val_accuracy: 0.8769\n",
      "Epoch 12/20\n",
      "30/30 [==============================] - 0s 15ms/step - loss: 0.0544 - accuracy: 0.9857 - val_loss: 0.3928 - val_accuracy: 0.8785\n",
      "Epoch 13/20\n",
      "30/30 [==============================] - 0s 16ms/step - loss: 0.0433 - accuracy: 0.9899 - val_loss: 0.4157 - val_accuracy: 0.8763\n",
      "Epoch 14/20\n",
      "30/30 [==============================] - 0s 16ms/step - loss: 0.0372 - accuracy: 0.9922 - val_loss: 0.4324 - val_accuracy: 0.8745\n",
      "Epoch 15/20\n",
      "30/30 [==============================] - 0s 17ms/step - loss: 0.0315 - accuracy: 0.9945 - val_loss: 0.4584 - val_accuracy: 0.8736\n",
      "Epoch 16/20\n",
      "30/30 [==============================] - 0s 16ms/step - loss: 0.0268 - accuracy: 0.9949 - val_loss: 0.4882 - val_accuracy: 0.8745\n",
      "Epoch 17/20\n",
      "30/30 [==============================] - 0s 16ms/step - loss: 0.0231 - accuracy: 0.9952 - val_loss: 0.5042 - val_accuracy: 0.8707\n",
      "Epoch 18/20\n",
      "30/30 [==============================] - 0s 16ms/step - loss: 0.0221 - accuracy: 0.9952 - val_loss: 0.5296 - val_accuracy: 0.8723\n",
      "Epoch 19/20\n",
      "30/30 [==============================] - 0s 15ms/step - loss: 0.0125 - accuracy: 0.9990 - val_loss: 0.5506 - val_accuracy: 0.8710\n",
      "Epoch 20/20\n",
      "30/30 [==============================] - 0s 15ms/step - loss: 0.0163 - accuracy: 0.9969 - val_loss: 0.5683 - val_accuracy: 0.8716\n"
     ]
    }
   ],
   "source": [
    "from tensorflow.keras.datasets import imdb\n",
    "(train_data, train_labels), _ = imdb.load_data(num_words=10000)\n",
    "\n",
    "def vectorize_sequences(sequences, dimension=10000):\n",
    "    results = np.zeros((len(sequences), dimension))\n",
    "    for i, sequence in enumerate(sequences):\n",
    "        results[i, sequence] = 1.\n",
    "    return results\n",
    "train_data = vectorize_sequences(train_data)\n",
    "\n",
    "model = keras.Sequential([\n",
    "    layers.Dense(16, activation=\"relu\"),\n",
    "    layers.Dense(16, activation=\"relu\"),\n",
    "    layers.Dense(1, activation=\"sigmoid\")\n",
    "])\n",
    "model.compile(optimizer=\"rmsprop\",\n",
    "              loss=\"binary_crossentropy\",\n",
    "              metrics=[\"accuracy\"])\n",
    "history_original = model.fit(train_data, train_labels,\n",
    "                             epochs=20, batch_size=512, validation_split=0.4)"
   ]
  },
  {
   "attachments": {},
   "cell_type": "markdown",
   "metadata": {
    "colab_type": "text"
   },
   "source": [
    "**Version of the model with lower capacity**"
   ]
  },
  {
   "cell_type": "code",
   "execution_count": 16,
   "metadata": {
    "colab_type": "code"
   },
   "outputs": [
    {
     "name": "stdout",
     "output_type": "stream",
     "text": [
      "Epoch 1/20\n",
      "30/30 [==============================] - 1s 23ms/step - loss: 0.6459 - accuracy: 0.7031 - val_loss: 0.5992 - val_accuracy: 0.7725\n",
      "Epoch 2/20\n",
      "30/30 [==============================] - 1s 18ms/step - loss: 0.5542 - accuracy: 0.8371 - val_loss: 0.5216 - val_accuracy: 0.8603\n",
      "Epoch 3/20\n",
      "30/30 [==============================] - 0s 16ms/step - loss: 0.4708 - accuracy: 0.8801 - val_loss: 0.4509 - val_accuracy: 0.8714\n",
      "Epoch 4/20\n",
      "30/30 [==============================] - 0s 16ms/step - loss: 0.3995 - accuracy: 0.8949 - val_loss: 0.3971 - val_accuracy: 0.8750\n",
      "Epoch 5/20\n",
      "30/30 [==============================] - 0s 16ms/step - loss: 0.3426 - accuracy: 0.9053 - val_loss: 0.3568 - val_accuracy: 0.8811\n",
      "Epoch 6/20\n",
      "30/30 [==============================] - 0s 16ms/step - loss: 0.2977 - accuracy: 0.9135 - val_loss: 0.3258 - val_accuracy: 0.8848\n",
      "Epoch 7/20\n",
      "30/30 [==============================] - 0s 17ms/step - loss: 0.2625 - accuracy: 0.9216 - val_loss: 0.3065 - val_accuracy: 0.8849\n",
      "Epoch 8/20\n",
      "30/30 [==============================] - 0s 16ms/step - loss: 0.2347 - accuracy: 0.9281 - val_loss: 0.2921 - val_accuracy: 0.8891\n",
      "Epoch 9/20\n",
      "30/30 [==============================] - 0s 16ms/step - loss: 0.2117 - accuracy: 0.9337 - val_loss: 0.2822 - val_accuracy: 0.8903\n",
      "Epoch 10/20\n",
      "30/30 [==============================] - 0s 16ms/step - loss: 0.1927 - accuracy: 0.9398 - val_loss: 0.2777 - val_accuracy: 0.8917\n",
      "Epoch 11/20\n",
      "30/30 [==============================] - 1s 17ms/step - loss: 0.1770 - accuracy: 0.9449 - val_loss: 0.2757 - val_accuracy: 0.8891\n",
      "Epoch 12/20\n",
      "30/30 [==============================] - 0s 17ms/step - loss: 0.1633 - accuracy: 0.9505 - val_loss: 0.2756 - val_accuracy: 0.8897\n",
      "Epoch 13/20\n",
      "30/30 [==============================] - 0s 15ms/step - loss: 0.1510 - accuracy: 0.9538 - val_loss: 0.2766 - val_accuracy: 0.8901\n",
      "Epoch 14/20\n",
      "30/30 [==============================] - 0s 15ms/step - loss: 0.1396 - accuracy: 0.9589 - val_loss: 0.2779 - val_accuracy: 0.8891\n",
      "Epoch 15/20\n",
      "30/30 [==============================] - 0s 15ms/step - loss: 0.1290 - accuracy: 0.9627 - val_loss: 0.2865 - val_accuracy: 0.8865\n",
      "Epoch 16/20\n",
      "30/30 [==============================] - 0s 15ms/step - loss: 0.1199 - accuracy: 0.9659 - val_loss: 0.2897 - val_accuracy: 0.8881\n",
      "Epoch 17/20\n",
      "30/30 [==============================] - 0s 15ms/step - loss: 0.1118 - accuracy: 0.9689 - val_loss: 0.2912 - val_accuracy: 0.8859\n",
      "Epoch 18/20\n",
      "30/30 [==============================] - 0s 15ms/step - loss: 0.1035 - accuracy: 0.9715 - val_loss: 0.3046 - val_accuracy: 0.8852\n",
      "Epoch 19/20\n",
      "30/30 [==============================] - 0s 16ms/step - loss: 0.0961 - accuracy: 0.9737 - val_loss: 0.3051 - val_accuracy: 0.8850\n",
      "Epoch 20/20\n",
      "30/30 [==============================] - 0s 13ms/step - loss: 0.0894 - accuracy: 0.9767 - val_loss: 0.3134 - val_accuracy: 0.8850\n"
     ]
    }
   ],
   "source": [
    "model = keras.Sequential([\n",
    "    layers.Dense(4, activation=\"relu\"),\n",
    "    layers.Dense(4, activation=\"relu\"),\n",
    "    layers.Dense(1, activation=\"sigmoid\")\n",
    "])\n",
    "model.compile(optimizer=\"rmsprop\",\n",
    "              loss=\"binary_crossentropy\",\n",
    "              metrics=[\"accuracy\"])\n",
    "history_smaller_model = model.fit(\n",
    "    train_data, train_labels,\n",
    "    epochs=20, batch_size=512, validation_split=0.4)"
   ]
  },
  {
   "attachments": {},
   "cell_type": "markdown",
   "metadata": {
    "colab_type": "text"
   },
   "source": [
    "**Version of the model with higher capacity**"
   ]
  },
  {
   "cell_type": "code",
   "execution_count": 17,
   "metadata": {
    "colab_type": "code"
   },
   "outputs": [
    {
     "name": "stdout",
     "output_type": "stream",
     "text": [
      "Epoch 1/20\n",
      "30/30 [==============================] - 3s 93ms/step - loss: 0.5901 - accuracy: 0.7088 - val_loss: 0.3671 - val_accuracy: 0.8595\n",
      "Epoch 2/20\n",
      "30/30 [==============================] - 2s 84ms/step - loss: 0.3256 - accuracy: 0.8689 - val_loss: 0.4409 - val_accuracy: 0.8057\n",
      "Epoch 3/20\n",
      "30/30 [==============================] - 2s 83ms/step - loss: 0.2502 - accuracy: 0.9006 - val_loss: 0.2864 - val_accuracy: 0.8796\n",
      "Epoch 4/20\n",
      "30/30 [==============================] - 2s 83ms/step - loss: 0.1825 - accuracy: 0.9287 - val_loss: 0.3208 - val_accuracy: 0.8727\n",
      "Epoch 5/20\n",
      "30/30 [==============================] - 2s 81ms/step - loss: 0.1542 - accuracy: 0.9395 - val_loss: 0.2815 - val_accuracy: 0.8867\n",
      "Epoch 6/20\n",
      "30/30 [==============================] - 2s 81ms/step - loss: 0.1044 - accuracy: 0.9636 - val_loss: 0.3234 - val_accuracy: 0.8870\n",
      "Epoch 7/20\n",
      "30/30 [==============================] - 2s 81ms/step - loss: 0.0870 - accuracy: 0.9702 - val_loss: 0.3556 - val_accuracy: 0.8851\n",
      "Epoch 8/20\n",
      "30/30 [==============================] - 2s 81ms/step - loss: 0.0879 - accuracy: 0.9733 - val_loss: 0.3526 - val_accuracy: 0.8826\n",
      "Epoch 9/20\n",
      "30/30 [==============================] - 2s 82ms/step - loss: 0.0615 - accuracy: 0.9809 - val_loss: 0.3241 - val_accuracy: 0.8808\n",
      "Epoch 10/20\n",
      "30/30 [==============================] - 3s 86ms/step - loss: 0.0131 - accuracy: 0.9990 - val_loss: 0.4672 - val_accuracy: 0.8808\n",
      "Epoch 11/20\n",
      "30/30 [==============================] - 3s 85ms/step - loss: 0.0813 - accuracy: 0.9823 - val_loss: 0.3976 - val_accuracy: 0.8816\n",
      "Epoch 12/20\n",
      "30/30 [==============================] - 2s 83ms/step - loss: 0.0056 - accuracy: 0.9996 - val_loss: 0.4981 - val_accuracy: 0.8815\n",
      "Epoch 13/20\n",
      "30/30 [==============================] - 2s 84ms/step - loss: 0.0026 - accuracy: 0.9997 - val_loss: 0.5621 - val_accuracy: 0.8809\n",
      "Epoch 14/20\n",
      "30/30 [==============================] - 3s 88ms/step - loss: 0.0690 - accuracy: 0.9881 - val_loss: 0.5376 - val_accuracy: 0.8616\n",
      "Epoch 15/20\n",
      "30/30 [==============================] - 3s 87ms/step - loss: 0.0048 - accuracy: 0.9998 - val_loss: 0.5186 - val_accuracy: 0.8822\n",
      "Epoch 16/20\n",
      "30/30 [==============================] - 3s 84ms/step - loss: 0.0014 - accuracy: 1.0000 - val_loss: 0.5929 - val_accuracy: 0.8823\n",
      "Epoch 17/20\n",
      "30/30 [==============================] - 2s 83ms/step - loss: 7.8311e-04 - accuracy: 1.0000 - val_loss: 0.6393 - val_accuracy: 0.8807\n",
      "Epoch 18/20\n",
      "30/30 [==============================] - 3s 84ms/step - loss: 4.8796e-04 - accuracy: 1.0000 - val_loss: 0.6821 - val_accuracy: 0.8815\n",
      "Epoch 19/20\n",
      "30/30 [==============================] - 2s 80ms/step - loss: 3.3289e-04 - accuracy: 1.0000 - val_loss: 0.7156 - val_accuracy: 0.8818\n",
      "Epoch 20/20\n",
      "30/30 [==============================] - 2s 78ms/step - loss: 2.5166e-04 - accuracy: 1.0000 - val_loss: 0.7294 - val_accuracy: 0.8802\n"
     ]
    }
   ],
   "source": [
    "model = keras.Sequential([\n",
    "    layers.Dense(512, activation=\"relu\"),\n",
    "    layers.Dense(512, activation=\"relu\"),\n",
    "    layers.Dense(1, activation=\"sigmoid\")\n",
    "])\n",
    "model.compile(optimizer=\"rmsprop\",\n",
    "              loss=\"binary_crossentropy\",\n",
    "              metrics=[\"accuracy\"])\n",
    "history_larger_model = model.fit(\n",
    "    train_data, train_labels,\n",
    "    epochs=20, batch_size=512, validation_split=0.4)"
   ]
  },
  {
   "attachments": {},
   "cell_type": "markdown",
   "metadata": {
    "colab_type": "text"
   },
   "source": [
    "#### Adding weight regularization"
   ]
  },
  {
   "attachments": {},
   "cell_type": "markdown",
   "metadata": {
    "colab_type": "text"
   },
   "source": [
    "**Adding L2 weight regularization to the model**"
   ]
  },
  {
   "cell_type": "code",
   "execution_count": 18,
   "metadata": {
    "colab_type": "code"
   },
   "outputs": [
    {
     "name": "stdout",
     "output_type": "stream",
     "text": [
      "Epoch 1/20\n",
      "30/30 [==============================] - 1s 29ms/step - loss: 0.6374 - accuracy: 0.7643 - val_loss: 0.5038 - val_accuracy: 0.8666\n",
      "Epoch 2/20\n",
      "30/30 [==============================] - 1s 17ms/step - loss: 0.4352 - accuracy: 0.8880 - val_loss: 0.4109 - val_accuracy: 0.8800\n",
      "Epoch 3/20\n",
      "30/30 [==============================] - 1s 17ms/step - loss: 0.3525 - accuracy: 0.9100 - val_loss: 0.3931 - val_accuracy: 0.8733\n",
      "Epoch 4/20\n",
      "30/30 [==============================] - 0s 16ms/step - loss: 0.3163 - accuracy: 0.9186 - val_loss: 0.3607 - val_accuracy: 0.8885\n",
      "Epoch 5/20\n",
      "30/30 [==============================] - 0s 16ms/step - loss: 0.2895 - accuracy: 0.9287 - val_loss: 0.3585 - val_accuracy: 0.8884\n",
      "Epoch 6/20\n",
      "30/30 [==============================] - 0s 15ms/step - loss: 0.2703 - accuracy: 0.9352 - val_loss: 0.4005 - val_accuracy: 0.8670\n",
      "Epoch 7/20\n",
      "30/30 [==============================] - 0s 15ms/step - loss: 0.2646 - accuracy: 0.9361 - val_loss: 0.3618 - val_accuracy: 0.8848\n",
      "Epoch 8/20\n",
      "30/30 [==============================] - 0s 15ms/step - loss: 0.2504 - accuracy: 0.9437 - val_loss: 0.3677 - val_accuracy: 0.8839\n",
      "Epoch 9/20\n",
      "30/30 [==============================] - 0s 15ms/step - loss: 0.2469 - accuracy: 0.9443 - val_loss: 0.3845 - val_accuracy: 0.8767\n",
      "Epoch 10/20\n",
      "30/30 [==============================] - 0s 15ms/step - loss: 0.2398 - accuracy: 0.9477 - val_loss: 0.3707 - val_accuracy: 0.8834\n",
      "Epoch 11/20\n",
      "30/30 [==============================] - 0s 16ms/step - loss: 0.2275 - accuracy: 0.9523 - val_loss: 0.4059 - val_accuracy: 0.8676\n",
      "Epoch 12/20\n",
      "30/30 [==============================] - 0s 16ms/step - loss: 0.2286 - accuracy: 0.9511 - val_loss: 0.3904 - val_accuracy: 0.8773\n",
      "Epoch 13/20\n",
      "30/30 [==============================] - 0s 16ms/step - loss: 0.2249 - accuracy: 0.9537 - val_loss: 0.3829 - val_accuracy: 0.8802\n",
      "Epoch 14/20\n",
      "30/30 [==============================] - 0s 15ms/step - loss: 0.2167 - accuracy: 0.9571 - val_loss: 0.3830 - val_accuracy: 0.8809\n",
      "Epoch 15/20\n",
      "30/30 [==============================] - 0s 15ms/step - loss: 0.2136 - accuracy: 0.9585 - val_loss: 0.3877 - val_accuracy: 0.8802\n",
      "Epoch 16/20\n",
      "30/30 [==============================] - 1s 17ms/step - loss: 0.2178 - accuracy: 0.9535 - val_loss: 0.3989 - val_accuracy: 0.8764\n",
      "Epoch 17/20\n",
      "30/30 [==============================] - 0s 15ms/step - loss: 0.2103 - accuracy: 0.9588 - val_loss: 0.4003 - val_accuracy: 0.8778\n",
      "Epoch 18/20\n",
      "30/30 [==============================] - 0s 15ms/step - loss: 0.2014 - accuracy: 0.9625 - val_loss: 0.4245 - val_accuracy: 0.8705\n",
      "Epoch 19/20\n",
      "30/30 [==============================] - 0s 15ms/step - loss: 0.2070 - accuracy: 0.9583 - val_loss: 0.4064 - val_accuracy: 0.8767\n",
      "Epoch 20/20\n",
      "30/30 [==============================] - 0s 15ms/step - loss: 0.2010 - accuracy: 0.9616 - val_loss: 0.4031 - val_accuracy: 0.8782\n"
     ]
    }
   ],
   "source": [
    "from tensorflow.keras import regularizers\n",
    "model = keras.Sequential([\n",
    "    layers.Dense(16,\n",
    "                 kernel_regularizer=regularizers.l2(0.002), # L2 正则化\n",
    "                 activation=\"relu\"),\n",
    "    layers.Dense(16,\n",
    "                 kernel_regularizer=regularizers.l2(0.002),\n",
    "                 activation=\"relu\"),\n",
    "    layers.Dense(1, activation=\"sigmoid\")\n",
    "])\n",
    "model.compile(optimizer=\"rmsprop\",\n",
    "              loss=\"binary_crossentropy\",\n",
    "              metrics=[\"accuracy\"])\n",
    "history_l2_reg = model.fit(\n",
    "    train_data, train_labels,\n",
    "    epochs=20, batch_size=512, validation_split=0.4)"
   ]
  },
  {
   "attachments": {},
   "cell_type": "markdown",
   "metadata": {
    "colab_type": "text"
   },
   "source": [
    "**Different weight regularizers available in Keras**"
   ]
  },
  {
   "cell_type": "code",
   "execution_count": 19,
   "metadata": {
    "colab_type": "code"
   },
   "outputs": [
    {
     "data": {
      "text/plain": [
       "<keras.regularizers.L1L2 at 0x25082789ee0>"
      ]
     },
     "execution_count": 19,
     "metadata": {},
     "output_type": "execute_result"
    }
   ],
   "source": [
    "from tensorflow.keras import regularizers\n",
    "regularizers.l1(0.001)\n",
    "regularizers.l1_l2(l1=0.001, l2=0.001)"
   ]
  },
  {
   "attachments": {},
   "cell_type": "markdown",
   "metadata": {
    "colab_type": "text"
   },
   "source": [
    "#### Adding dropout"
   ]
  },
  {
   "attachments": {},
   "cell_type": "markdown",
   "metadata": {
    "colab_type": "text"
   },
   "source": [
    "**Adding dropout to the IMDB model**"
   ]
  },
  {
   "cell_type": "code",
   "execution_count": 20,
   "metadata": {
    "colab_type": "code"
   },
   "outputs": [
    {
     "name": "stdout",
     "output_type": "stream",
     "text": [
      "Epoch 1/20\n",
      "30/30 [==============================] - 1s 24ms/step - loss: 0.6510 - accuracy: 0.6283 - val_loss: 0.5768 - val_accuracy: 0.6701\n",
      "Epoch 2/20\n",
      "30/30 [==============================] - 1s 18ms/step - loss: 0.5538 - accuracy: 0.7810 - val_loss: 0.5015 - val_accuracy: 0.8252\n",
      "Epoch 3/20\n",
      "30/30 [==============================] - 1s 20ms/step - loss: 0.4924 - accuracy: 0.8496 - val_loss: 0.4609 - val_accuracy: 0.8713\n",
      "Epoch 4/20\n",
      "30/30 [==============================] - 0s 17ms/step - loss: 0.4444 - accuracy: 0.8868 - val_loss: 0.4372 - val_accuracy: 0.8612\n",
      "Epoch 5/20\n",
      "30/30 [==============================] - 0s 15ms/step - loss: 0.4023 - accuracy: 0.9022 - val_loss: 0.4100 - val_accuracy: 0.8825\n",
      "Epoch 6/20\n",
      "30/30 [==============================] - 1s 17ms/step - loss: 0.3674 - accuracy: 0.9187 - val_loss: 0.4024 - val_accuracy: 0.8781\n",
      "Epoch 7/20\n",
      "30/30 [==============================] - 0s 16ms/step - loss: 0.3391 - accuracy: 0.9268 - val_loss: 0.4079 - val_accuracy: 0.8748\n",
      "Epoch 8/20\n",
      "30/30 [==============================] - 0s 17ms/step - loss: 0.3112 - accuracy: 0.9355 - val_loss: 0.3989 - val_accuracy: 0.8787\n",
      "Epoch 9/20\n",
      "30/30 [==============================] - 0s 16ms/step - loss: 0.2839 - accuracy: 0.9433 - val_loss: 0.3984 - val_accuracy: 0.8774\n",
      "Epoch 10/20\n",
      "30/30 [==============================] - 0s 16ms/step - loss: 0.2619 - accuracy: 0.9468 - val_loss: 0.4571 - val_accuracy: 0.8656\n",
      "Epoch 11/20\n",
      "30/30 [==============================] - 0s 17ms/step - loss: 0.2352 - accuracy: 0.9527 - val_loss: 0.4129 - val_accuracy: 0.8763\n",
      "Epoch 12/20\n",
      "30/30 [==============================] - 0s 16ms/step - loss: 0.2156 - accuracy: 0.9571 - val_loss: 0.4093 - val_accuracy: 0.8775\n",
      "Epoch 13/20\n",
      "30/30 [==============================] - 0s 16ms/step - loss: 0.1988 - accuracy: 0.9595 - val_loss: 0.4036 - val_accuracy: 0.8769\n",
      "Epoch 14/20\n",
      "30/30 [==============================] - 0s 16ms/step - loss: 0.1892 - accuracy: 0.9591 - val_loss: 0.4455 - val_accuracy: 0.8743\n",
      "Epoch 15/20\n",
      "30/30 [==============================] - 0s 16ms/step - loss: 0.1702 - accuracy: 0.9663 - val_loss: 0.5029 - val_accuracy: 0.8718\n",
      "Epoch 16/20\n",
      "30/30 [==============================] - 0s 16ms/step - loss: 0.1600 - accuracy: 0.9663 - val_loss: 0.5048 - val_accuracy: 0.8703\n",
      "Epoch 17/20\n",
      "30/30 [==============================] - 0s 16ms/step - loss: 0.1495 - accuracy: 0.9679 - val_loss: 0.4974 - val_accuracy: 0.8739\n",
      "Epoch 18/20\n",
      "30/30 [==============================] - 0s 16ms/step - loss: 0.1382 - accuracy: 0.9701 - val_loss: 0.4844 - val_accuracy: 0.8766\n",
      "Epoch 19/20\n",
      "30/30 [==============================] - 0s 17ms/step - loss: 0.1299 - accuracy: 0.9725 - val_loss: 0.6345 - val_accuracy: 0.8659\n",
      "Epoch 20/20\n",
      "30/30 [==============================] - 0s 14ms/step - loss: 0.1243 - accuracy: 0.9719 - val_loss: 0.5777 - val_accuracy: 0.8728\n"
     ]
    }
   ],
   "source": [
    "model = keras.Sequential([\n",
    "    layers.Dense(16, activation=\"relu\"),\n",
    "    layers.Dropout(0.5),\n",
    "    layers.Dense(16, activation=\"relu\"),\n",
    "    layers.Dropout(0.5),\n",
    "    layers.Dense(1, activation=\"sigmoid\")\n",
    "])\n",
    "model.compile(optimizer=\"rmsprop\",\n",
    "              loss=\"binary_crossentropy\",\n",
    "              metrics=[\"accuracy\"])\n",
    "history_dropout = model.fit(\n",
    "    train_data, train_labels,\n",
    "    epochs=20, batch_size=512, validation_split=0.4)"
   ]
  },
  {
   "attachments": {},
   "cell_type": "markdown",
   "metadata": {
    "colab_type": "text"
   },
   "source": [
    "## Summary"
   ]
  }
 ],
 "metadata": {
  "colab": {
   "collapsed_sections": [],
   "name": "chapter05_fundamentals-of-ml.i",
   "private_outputs": false,
   "provenance": [],
   "toc_visible": true
  },
  "kernelspec": {
   "display_name": "Python 3",
   "language": "python",
   "name": "python3"
  },
  "language_info": {
   "codemirror_mode": {
    "name": "ipython",
    "version": 3
   },
   "file_extension": ".py",
   "mimetype": "text/x-python",
   "name": "python",
   "nbconvert_exporter": "python",
   "pygments_lexer": "ipython3",
   "version": "3.8.10"
  }
 },
 "nbformat": 4,
 "nbformat_minor": 0
}
